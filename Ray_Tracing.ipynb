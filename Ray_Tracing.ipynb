{
 "cells": [
  {
   "cell_type": "markdown",
   "metadata": {},
   "source": [
    "# Ray Tracing"
   ]
  },
  {
   "cell_type": "markdown",
   "metadata": {},
   "source": [
    "**Objetivo:** Implementar ray tracing.\n",
    "\n",
    "**Referências:**\n",
    "- https://medium.com/@www.seymour/coding-a-3d-ray-tracing-graphics-engine-from-scratch-f914c12bb162\n",
    "- https://medium.com/@www.seymour/coding-a-3d-ray-tracing-graphics-engine-using-python-and-c-part-2-9b53bcb6fb1b\n",
    "- https://observablehq.com/@esperanc/raytracing"
   ]
  },
  {
   "cell_type": "markdown",
   "metadata": {},
   "source": [
    "## Implementation"
   ]
  },
  {
   "cell_type": "markdown",
   "metadata": {},
   "source": [
    "### Libraries"
   ]
  },
  {
   "cell_type": "code",
   "execution_count": 1,
   "metadata": {},
   "outputs": [],
   "source": [
    "import numpy as np\n",
    "import matplotlib.pyplot as plt\n",
    "from mpl_toolkits.mplot3d import Axes3D"
   ]
  },
  {
   "cell_type": "markdown",
   "metadata": {},
   "source": [
    "### Class"
   ]
  },
  {
   "cell_type": "markdown",
   "metadata": {},
   "source": [
    "An object when hit by a ray could: emit, reflect, absorb, specular reflection (return value)"
   ]
  },
  {
   "cell_type": "code",
   "execution_count": 2,
   "metadata": {},
   "outputs": [],
   "source": [
    "class Ray:\n",
    "    def __init__(self, origin, direction):\n",
    "        self.origin = origin\n",
    "        self.direction = direction\n",
    "    \n",
    "    def at_time_t(self, t):\n",
    "        return self.origin + t * self.direction"
   ]
  },
  {
   "cell_type": "code",
   "execution_count": 3,
   "metadata": {},
   "outputs": [],
   "source": [
    "class Material:\n",
    "    def __init__(self, color, ambient, diffuse, specular, shininess):\n",
    "        self.color = color\n",
    "        self.ambient = ambient\n",
    "        self.diffuse = diffuse\n",
    "        self.specular = specular\n",
    "        self.shininess = shininess"
   ]
  },
  {
   "cell_type": "code",
   "execution_count": 4,
   "metadata": {},
   "outputs": [],
   "source": [
    "epsilon = 10 ** -5\n",
    "\n",
    "class Sphere:\n",
    "    def __init__(self, center, radius, material):\n",
    "        self.center = center\n",
    "        self.radius = radius\n",
    "        self.material = material\n",
    "    \n",
    "    def normal_at_point(self, point):\n",
    "        rad = sum(np.square(point - self.center))\n",
    "        if np.abs(self.radius**2 - rad) < epsilon:\n",
    "            return 2 * point - self.center\n",
    "        else:\n",
    "            raise Exception(\"Given point is not a point in the Sphere.\")\n",
    "    \n",
    "    def ray_intersection(self, ray):\n",
    "        oc = ray.origin - self.center\n",
    "        a = np.dot(ray.direction, ray.direction)\n",
    "        b = 2 * np.dot(oc, ray.direction)\n",
    "        c = np.dot(oc, oc) - self.radius**2\n",
    "\n",
    "        delta = b**2 - 4*a*c\n",
    "\n",
    "        if delta >= 0:\n",
    "            T = None\n",
    "            t1 = (-b + np.sqrt(delta)) / (2*a)\n",
    "            t2 = (-b - np.sqrt(delta)) / (2*a)\n",
    "            if np.isreal(t1) and np.isreal(t2):\n",
    "                T = min(t1, t2)\n",
    "            elif np.isreal(t1):\n",
    "                T = t1\n",
    "            else:\n",
    "                T = t2\n",
    "            dist = T * np.linalg.norm(ray.direction)\n",
    "            return dist, T\n",
    "        else:\n",
    "            return False, False\n",
    "        "
   ]
  },
  {
   "cell_type": "code",
   "execution_count": 5,
   "metadata": {},
   "outputs": [],
   "source": [
    "class Light:\n",
    "    def __init__(self, color, position):\n",
    "        self.color = color\n",
    "        self.position = position"
   ]
  },
  {
   "cell_type": "markdown",
   "metadata": {},
   "source": [
    "### Functions"
   ]
  },
  {
   "cell_type": "code",
   "execution_count": 6,
   "metadata": {},
   "outputs": [],
   "source": [
    "def length(arr):\n",
    "    return np.linalg.norm(arr)"
   ]
  },
  {
   "cell_type": "code",
   "execution_count": 7,
   "metadata": {},
   "outputs": [],
   "source": [
    "def normalize(arr):\n",
    "    norm = np.linalg.norm(arr)\n",
    "    return arr / norm"
   ]
  },
  {
   "cell_type": "code",
   "execution_count": 8,
   "metadata": {},
   "outputs": [],
   "source": [
    "# ref: https://math.stackexchange.com/questions/13261/how-to-get-a-reflection-vector\n",
    "\n",
    "def reflection(incident, normal):\n",
    "    normal = normalize(normal)\n",
    "    reflected = incident - 2 * (np.dot(incident, normal) * normal)\n",
    "    return reflected"
   ]
  },
  {
   "cell_type": "code",
   "execution_count": 9,
   "metadata": {},
   "outputs": [],
   "source": [
    "def first_hit(objects, ray):\n",
    "    closest_object = None\n",
    "    min_distance = np.inf\n",
    "    time = np.inf\n",
    "    for obj in objects:\n",
    "        dist, T = obj.ray_intersection(ray)\n",
    "        if dist != False and dist < min_distance:\n",
    "            min_distance = dist\n",
    "            time = T\n",
    "            closest_object = obj\n",
    "    if closest_object != None: \n",
    "        return [closest_object, min_distance, time]\n",
    "    else:\n",
    "        return False"
   ]
  },
  {
   "cell_type": "code",
   "execution_count": 10,
   "metadata": {},
   "outputs": [],
   "source": [
    "def ray_tracing(ray, objects, lights, level=1):\n",
    "    black = np.array([0, 0, 0])\n",
    "    # Check if we hit anything\n",
    "    hit = first_hit(objects, ray)\n",
    "    if hit == False:\n",
    "        return black\n",
    "    elif hit != False:\n",
    "        obj, dist, t = hit[0], hit[1], hit[2]\n",
    "\n",
    "        # Material properties\n",
    "        color = obj.material.color\n",
    "        ambient = obj.material.ambient\n",
    "        diffuse = obj.material.diffuse\n",
    "        specular = obj.material.specular\n",
    "        shininess = obj.material.shininess\n",
    "\n",
    "        # The final color stats with the ambient color\n",
    "        rgb = color * ambient\n",
    "\n",
    "        # The hit point\n",
    "        q = ray.at_time_t(t)\n",
    "        \n",
    "        # The hit normal\n",
    "        n = obj.normal_at_point(q)\n",
    "\n",
    "        # Vector from surface point to viewer\n",
    "        qv = -ray.direction\n",
    "        qv = normalize(qv)\n",
    "\n",
    "        # Take into account each light\n",
    "        for light in lights:\n",
    "            # Vector from surface point to light position\n",
    "            qp = light.position - q\n",
    "            light_dist = length(qp)\n",
    "            qp = normalize(qp)\n",
    "            \n",
    "            # Cast shadow ray\n",
    "            shadow_ray = Ray(origin=q, direction=qp)\n",
    "            shadow_ray_hit = first_hit(objects, shadow_ray)\n",
    "            if (shadow_ray_hit != False and shadow_ray_hit[1] >= light_dist):\n",
    "                # Compute diffuse color\n",
    "                rgb += color * diffuse * max(0, np.dot(qp, n))\n",
    "            \n",
    "            # Non-recursive specular computation if term non-zero\n",
    "            if (level <= 0 and specular > 0):\n",
    "                ref = reflection(qp, n)\n",
    "                if (all(ref != black)):\n",
    "                    rgb += light.color * specular * np.power(np.dot(ref, qv), shininess)\n",
    "\n",
    "        # Recursive specular computation if term non-zero\n",
    "        if (level > 0 and specular > 0):\n",
    "            # Reflected vector\n",
    "            ref = reflection(qv, n)\n",
    "            if (all(ref != black)):\n",
    "                color = ray_tracing(Ray(origin=q, direction=ref), objects=objects, lights=lights, level=level-1)\n",
    "                rgb += color * specular\n",
    "        \n",
    "        # Clamp to 255\n",
    "        rgb = rgb % 255\n",
    "        return rgb"
   ]
  },
  {
   "cell_type": "code",
   "execution_count": 11,
   "metadata": {},
   "outputs": [],
   "source": [
    "# Convert color representation from 0-255 to 0-1\n",
    "def convert_color_to_unit(color):\n",
    "    return (color % 255) / 255"
   ]
  },
  {
   "cell_type": "markdown",
   "metadata": {},
   "source": [
    "## Making Figure"
   ]
  },
  {
   "cell_type": "markdown",
   "metadata": {},
   "source": [
    "### Defining objects in the scene"
   ]
  },
  {
   "cell_type": "code",
   "execution_count": 12,
   "metadata": {},
   "outputs": [],
   "source": [
    "# Colors\n",
    "red = np.array([255.0, 0.0, 0.0])\n",
    "green = np.array([0.0, 255.0, 0.0])\n",
    "blue = np.array([0.0, 0.0, 255.0])\n",
    "yellow = np.array([255.0, 255.0, 0.0])\n",
    "\n",
    "# Materials\n",
    "mat1 = Material(color=red, ambient=0.3, diffuse=0.5, specular=0.8, shininess=1)\n",
    "mat2 = Material(color=green, ambient=0.3, diffuse=0.5, specular=0.3, shininess=2)\n",
    "\n",
    "# Spheres\n",
    "center1 = np.array([-20, -20, -20])\n",
    "radius1 = 15\n",
    "sphere1 = Sphere(center=center1, radius=radius1, material=mat1)\n",
    "\n",
    "center2 = np.array([-10, -10, -10])\n",
    "radius2 = 5\n",
    "sphere2 = Sphere(center=center2, radius=radius2, material=mat2)\n",
    "\n",
    "# Objects\n",
    "objects = [sphere1, sphere2]\n",
    "\n",
    "# Ray\n",
    "origin = np.array([30, 30, 30])\n",
    "direction = np.array([-1, -1, -1])\n",
    "ray = Ray(origin=origin, direction=direction)\n",
    "\n",
    "# Light\n",
    "light = Light(color=yellow, position=np.array([20, 20, 20]))\n",
    "lights = [light]"
   ]
  },
  {
   "cell_type": "markdown",
   "metadata": {},
   "source": [
    "### Plotting each object"
   ]
  },
  {
   "cell_type": "code",
   "execution_count": 13,
   "metadata": {},
   "outputs": [
    {
     "data": {
      "image/png": "[encoded data removed]",
      "text/plain": [
       "<Figure size 640x480 with 1 Axes>"
      ]
     },
     "metadata": {},
     "output_type": "display_data"
    }
   ],
   "source": [
    "# Definição do plano de projeção\n",
    "plane_width = 2\n",
    "plane_height = 2\n",
    "num_samples = 100\n",
    "\n",
    "# Criação da figura\n",
    "fig = plt.figure()\n",
    "ax = fig.add_subplot(111, projection='3d')\n",
    "\n",
    "# Criação das esferas\n",
    "spheres_coords = []\n",
    "\n",
    "for i in range(0, 2):\n",
    "    sphere = objects[i]\n",
    "    u = np.linspace(0, 2 * np.pi, 100)\n",
    "    v = np.linspace(0, np.pi, 100)\n",
    "    x = sphere.center[0] + sphere.radius * np.outer(np.cos(u), np.sin(v))\n",
    "    y = sphere.center[1] + sphere.radius * np.outer(np.sin(u), np.sin(v))\n",
    "    z = sphere.center[2] + sphere.radius * np.outer(np.ones(np.size(u)), np.cos(v))\n",
    "    spheres_coords.append([x, y, z])\n",
    "\n",
    "# Aplicação do ray tracing na cena e plot das esferas\n",
    "for i in range(0, 2):\n",
    "    sphere = objects[i]\n",
    "    color = ray_tracing(ray=ray, objects=[sphere], lights=lights)\n",
    "    object_color = convert_color_to_unit(sphere.material.color + color)\n",
    "    ax.plot_surface(spheres_coords[i][0], spheres_coords[i][1], spheres_coords[i][2], color=object_color, alpha=1)\n",
    "\n",
    "# Especificando o vetor câmera\n",
    "ax.view_init(elev=30, azim=-45)\n",
    "\n",
    "# Removendo eixos e grade\n",
    "ax.axis('off')\n",
    "ax.grid(False)\n",
    "\n",
    "# Definindo cor de fundo da cena\n",
    "ax.set_facecolor('black')\n",
    "\n",
    "# Salvando a cena em um arquivo de imagem\n",
    "plt.savefig('Cena.png', bbox_inches='tight', pad_inches=0)"
   ]
  }
 ],
 "metadata": {
  "kernelspec": {
   "display_name": "General_Work_Kernel",
   "language": "python",
   "name": "general_work_kernel"
  },
  "language_info": {
   "codemirror_mode": {
    "name": "ipython",
    "version": 3
   },
   "file_extension": ".py",
   "mimetype": "text/x-python",
   "name": "python",
   "nbconvert_exporter": "python",
   "pygments_lexer": "ipython3",
   "version": "3.11.5"
  }
 },
 "nbformat": 4,
 "nbformat_minor": 2
}
