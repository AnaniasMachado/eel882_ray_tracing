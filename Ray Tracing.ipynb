{
 "cells": [
  {
   "cell_type": "markdown",
   "metadata": {},
   "source": [
    "# Ray Tracing"
   ]
  },
  {
   "cell_type": "markdown",
   "metadata": {},
   "source": [
    "**Objetivo:** Implementar ray tracing.\n",
    "\n",
    "**Referências:**\n",
    "- https://medium.com/@www.seymour/coding-a-3d-ray-tracing-graphics-engine-from-scratch-f914c12bb162\n",
    "- https://medium.com/@www.seymour/coding-a-3d-ray-tracing-graphics-engine-using-python-and-c-part-2-9b53bcb6fb1b\n",
    "- https://observablehq.com/@esperanc/raytracing"
   ]
  },
  {
   "cell_type": "markdown",
   "metadata": {},
   "source": [
    "## Implementação"
   ]
  },
  {
   "cell_type": "markdown",
   "metadata": {},
   "source": [
    "### Libraries"
   ]
  },
  {
   "cell_type": "code",
   "execution_count": 1,
   "metadata": {},
   "outputs": [],
   "source": [
    "import numpy as np"
   ]
  },
  {
   "cell_type": "markdown",
   "metadata": {},
   "source": [
    "### Classes"
   ]
  },
  {
   "cell_type": "markdown",
   "metadata": {},
   "source": [
    "An object when hit by a ray could: emit, reflect, absorb, specular reflection (return value)"
   ]
  },
  {
   "cell_type": "code",
   "execution_count": 2,
   "metadata": {},
   "outputs": [],
   "source": [
    "class Ray:\n",
    "    def __init__(self, origin, direction):\n",
    "        self.origin = origin\n",
    "        self.direction = direction\n",
    "    \n",
    "    def at_time_t(self, t):\n",
    "        return self.origin + t * self.direction"
   ]
  },
  {
   "cell_type": "code",
   "execution_count": 3,
   "metadata": {},
   "outputs": [],
   "source": [
    "class Material:\n",
    "    def __init__(self, color, ambient, diffuse, specular, shininess):\n",
    "        self.color = color\n",
    "        self.ambient = ambient\n",
    "        self.diffuse = diffuse\n",
    "        self.specular = specular\n",
    "        self.shininess = shininess"
   ]
  },
  {
   "cell_type": "code",
   "execution_count": 4,
   "metadata": {},
   "outputs": [],
   "source": [
    "epsilon = 10 ** -5\n",
    "\n",
    "class Sphere:\n",
    "    def __init__(self, center, radius, material):\n",
    "        self.center = center\n",
    "        self.radius = radius\n",
    "        self.material = material\n",
    "    \n",
    "    def normal_at_point(self, point):\n",
    "        rad = sum(np.square(point - self.center))\n",
    "        if np.abs(self.radius**2 - rad) < epsilon:\n",
    "            return 2 * point - self.center\n",
    "        else:\n",
    "            raise Exception(\"Given point is not a point in the Sphere.\")"
   ]
  },
  {
   "cell_type": "code",
   "execution_count": 5,
   "metadata": {},
   "outputs": [],
   "source": [
    "class Light:\n",
    "    def __init__(self, color, position):\n",
    "        self.color = color\n",
    "        self.position = position"
   ]
  },
  {
   "cell_type": "markdown",
   "metadata": {},
   "source": [
    "### Functions"
   ]
  },
  {
   "cell_type": "code",
   "execution_count": 6,
   "metadata": {},
   "outputs": [],
   "source": [
    "def length(arr):\n",
    "    return np.linalg.norm(arr)"
   ]
  },
  {
   "cell_type": "code",
   "execution_count": 7,
   "metadata": {},
   "outputs": [],
   "source": [
    "def normalize(arr):\n",
    "    norm = np.linalg.norm(arr)\n",
    "    return arr / norm"
   ]
  },
  {
   "cell_type": "code",
   "execution_count": 8,
   "metadata": {},
   "outputs": [],
   "source": [
    "# ref: https://math.stackexchange.com/questions/13261/how-to-get-a-reflection-vector\n",
    "\n",
    "def reflection(incident, normal):\n",
    "    normal = normalize(normal)\n",
    "    reflected = incident - 2 * (np.dot(incident, normal) * normal)\n",
    "    return reflected"
   ]
  },
  {
   "cell_type": "code",
   "execution_count": 9,
   "metadata": {},
   "outputs": [],
   "source": [
    "def ray_hit(sphere, ray):\n",
    "    oc = ray.origin - sphere.center\n",
    "    a = np.dot(ray.direction, ray.direction)\n",
    "    b = 2 * np.dot(oc, ray.direction)\n",
    "    c = np.dot(oc, oc) - sphere.radius**2\n",
    "\n",
    "    delta = b**2 - 4*a*c\n",
    "\n",
    "    if delta >= 0:\n",
    "        # print(\"True\")\n",
    "        t1 = (-b + np.sqrt(delta)) / (2*a)\n",
    "        t2 = (-b - np.sqrt(delta)) / (2*a)\n",
    "        if np.isreal(t1) and np.isreal(t2):\n",
    "            return min(t1, t2)\n",
    "        elif np.isreal(t1):\n",
    "            return t1\n",
    "        else:\n",
    "            return t2\n",
    "    else:\n",
    "        # print(\"False\")\n",
    "        return False"
   ]
  },
  {
   "cell_type": "code",
   "execution_count": 10,
   "metadata": {},
   "outputs": [],
   "source": [
    "def firstHit(objects, ray):\n",
    "    distances = []\n",
    "    times = []\n",
    "    for obj in objects:\n",
    "        t = ray_hit(obj, ray)\n",
    "        if t != False:\n",
    "            distance = length(ray.origin - ray.at_time_t(t))\n",
    "            distances.append(distance)\n",
    "            times.append(t)\n",
    "    if distances == []:\n",
    "        return False\n",
    "    min_distance = min(distances)\n",
    "    idx = distances.index(min_distance)\n",
    "    time = times[idx]\n",
    "    return idx, min_distance, time\n",
    "        "
   ]
  },
  {
   "cell_type": "code",
   "execution_count": 11,
   "metadata": {},
   "outputs": [],
   "source": [
    "def ray_tracing(ray, objects, lights, level=1):\n",
    "    black = np.array([0, 0, 0])\n",
    "    # Check if we hit anything\n",
    "    idx_dist_time = firstHit(objects, ray)\n",
    "    if idx_dist_time == False:\n",
    "        return black\n",
    "    elif idx_dist_time != False:\n",
    "        obj = objects[idx_dist_time[0]]\n",
    "        dist = idx_dist_time[1]\n",
    "\n",
    "        # Material properties\n",
    "        color = obj.material.color\n",
    "        ambient = obj.material.ambient\n",
    "        diffuse = obj.material.diffuse\n",
    "        specular = obj.material.specular\n",
    "        shininess = obj.material.shininess\n",
    "\n",
    "        # The final color stats with the ambient color\n",
    "        rgb = color * ambient\n",
    "\n",
    "        # The hit point\n",
    "        q = ray.at_time_t(idx_dist_time[2])\n",
    "        # print(q-obj.center)\n",
    "        # print(sum(np.square(q - obj.center)))\n",
    "        \n",
    "        # The hit normal\n",
    "        n = obj.normal_at_point(q)\n",
    "\n",
    "        # Vector from surface point to viewer\n",
    "        qv = -ray.direction\n",
    "        qv = normalize(qv)\n",
    "\n",
    "        # Take into account each light\n",
    "        for light in lights:\n",
    "            # Vector from surface point to light position\n",
    "            qp = light.position - q\n",
    "            light_dist = length(qp)\n",
    "            qp = normalize(qp)\n",
    "            \n",
    "            # Cast shadow ray\n",
    "            shadow_ray = Ray(origin=q, direction=qp)\n",
    "            shadow_idx_dist_time = firstHit(objects, shadow_ray)\n",
    "            if (shadow_idx_dist_time != False and shadow_idx_dist_time[1] >= light_dist):\n",
    "                # Compute diffuse color\n",
    "                rgb += color * diffuse * max(0, np.dot(qp, n))\n",
    "            \n",
    "            # Non-recursive specular computation if term non-zero\n",
    "            if (level <= 0 and specular > 0):\n",
    "                ref = reflection(qp, n)\n",
    "                if (all(ref != black)):\n",
    "                    print(np.dot(ref, qv))\n",
    "                    print(shininess)\n",
    "                    rgb += light.color * specular * np.power(np.dot(ref, qv), shininess)\n",
    "\n",
    "        # Recursive specular computation if term non-zero\n",
    "        if (level > 0 and specular > 0):\n",
    "            # Reflected vector\n",
    "            ref = reflection(qv, n)\n",
    "            if (all(ref != black)):\n",
    "                color = ray_tracing(Ray(origin=q, direction=ref), objects=objects, lights=lights, level=level-1)\n",
    "                rgb += color * specular\n",
    "        \n",
    "        # Clamp to 255\n",
    "        rgb = rgb % 255\n",
    "        return rgb"
   ]
  },
  {
   "cell_type": "markdown",
   "metadata": {},
   "source": [
    "## Testing"
   ]
  },
  {
   "cell_type": "code",
   "execution_count": 12,
   "metadata": {},
   "outputs": [],
   "source": [
    "red = np.array([255, 0, 0])\n",
    "green = np.array([0, 255, 0])\n",
    "\n",
    "# specular = 0.3, shininess = 0.3\n",
    "mat = Material(color=red, ambient=0.3, diffuse=0.5, specular=0.8, shininess=1)\n",
    "\n",
    "center = np.array([-20, -20, -20])\n",
    "radius = 15\n",
    "sphere = Sphere(center=center, radius=radius, material=mat)\n",
    "\n",
    "mat2 = Material(color=green, ambient=0.3, diffuse=0.5, specular=0.3, shininess=2)\n",
    "\n",
    "center2 = np.array([-10, -10, -10])\n",
    "radius2 = 5\n",
    "sphere2 = Sphere(center=center2, radius=radius2, material=mat2)\n",
    "\n",
    "origin = np.array([30, 30, 30])\n",
    "direction = np.array([-1, -1, -1])\n",
    "ray = Ray(origin=origin, direction=direction)"
   ]
  },
  {
   "cell_type": "code",
   "execution_count": 13,
   "metadata": {},
   "outputs": [
    {
     "name": "stdout",
     "output_type": "stream",
     "text": [
      "(0, 71.60254037844386, 41.33974596215561)\n"
     ]
    }
   ],
   "source": [
    "idx_dist_time = firstHit([sphere], ray)\n",
    "print(idx_dist_time)"
   ]
  },
  {
   "cell_type": "code",
   "execution_count": 14,
   "metadata": {},
   "outputs": [],
   "source": [
    "objects = [sphere, sphere2]\n",
    "\n",
    "light = Light(color=np.array([255, 255, 0]), position=np.array([20, 20, 20]))\n",
    "lights = [light]"
   ]
  },
  {
   "cell_type": "code",
   "execution_count": 15,
   "metadata": {},
   "outputs": [
    {
     "name": "stdout",
     "output_type": "stream",
     "text": [
      "-1.0\n",
      "2\n"
     ]
    },
    {
     "data": {
      "text/plain": [
       "array([ 22.95, 122.4 ,   0.  ])"
      ]
     },
     "execution_count": 15,
     "metadata": {},
     "output_type": "execute_result"
    }
   ],
   "source": [
    "ray_tracing(ray, objects, lights)"
   ]
  },
  {
   "cell_type": "markdown",
   "metadata": {},
   "source": [
    "## Making Figure"
   ]
  },
  {
   "cell_type": "markdown",
   "metadata": {},
   "source": [
    "### Elements of the figure"
   ]
  },
  {
   "cell_type": "code",
   "execution_count": 16,
   "metadata": {},
   "outputs": [],
   "source": [
    "# Colors\n",
    "red = np.array([255.0, 0.0, 0.0])\n",
    "green = np.array([0.0, 255.0, 0.0])\n",
    "blue = np.array([0.0, 0.0, 255.0])\n",
    "yellow = np.array([255.0, 255.0, 0.0])\n",
    "\n",
    "# Material\n",
    "mat1 = Material(color=red, ambient=0.3, diffuse=0.5, specular=0.8, shininess=1)\n",
    "mat2 = Material(color=green, ambient=0.3, diffuse=0.5, specular=0.3, shininess=2)\n",
    "\n",
    "# Spheres\n",
    "center1 = np.array([-20, -20, -20])\n",
    "radius1 = 15\n",
    "sphere1 = Sphere(center=center1, radius=radius1, material=mat1)\n",
    "\n",
    "center2 = np.array([-10, -10, -10])\n",
    "radius2 = 5\n",
    "sphere2 = Sphere(center=center2, radius=radius2, material=mat2)\n",
    "\n",
    "# Objects\n",
    "objects = [sphere1, sphere2]\n",
    "# objects = [sphere1]\n",
    "\n",
    "# Ray\n",
    "origin = np.array([30, 30, 30])\n",
    "direction = np.array([-1, -1, -1])\n",
    "ray = Ray(origin=origin, direction=direction)\n",
    "\n",
    "# Lights\n",
    "light = Light(color=yellow, position=np.array([20, 20, 20]))\n",
    "lights = [light]"
   ]
  },
  {
   "cell_type": "markdown",
   "metadata": {},
   "source": [
    "### The figure"
   ]
  },
  {
   "cell_type": "code",
   "execution_count": 17,
   "metadata": {},
   "outputs": [
    {
     "name": "stdout",
     "output_type": "stream",
     "text": [
      "-1.0\n",
      "1\n",
      "[178.5  40.8   0. ]\n",
      "[0.7  0.16 0.  ]\n",
      "-1.0\n",
      "2\n",
      "[ 22.95 122.4    0.  ]\n",
      "[0.09 0.48 0.  ]\n"
     ]
    },
    {
     "data": {
      "image/png": "[encoded data removed]",
      "text/plain": [
       "<Figure size 640x480 with 1 Axes>"
      ]
     },
     "metadata": {},
     "output_type": "display_data"
    }
   ],
   "source": [
    "import matplotlib.pyplot as plt\n",
    "from mpl_toolkits.mplot3d import Axes3D\n",
    "\n",
    "# Definição do plano de projeção\n",
    "plane_width = 2\n",
    "plane_height = 2\n",
    "num_samples = 100\n",
    "\n",
    "# Criação da figura\n",
    "fig = plt.figure()\n",
    "ax = fig.add_subplot(111, projection='3d')\n",
    "\n",
    "spheres_coords = []\n",
    "\n",
    "# Plot da esfera\n",
    "for sphere in objects:\n",
    "    u = np.linspace(0, 2 * np.pi, 100)\n",
    "    v = np.linspace(0, np.pi, 100)\n",
    "    x = sphere.center[0] + sphere.radius * np.outer(np.cos(u), np.sin(v))\n",
    "    y = sphere.center[1] + sphere.radius * np.outer(np.sin(u), np.sin(v))\n",
    "    z = sphere.center[2] + sphere.radius * np.outer(np.ones(np.size(u)), np.cos(v))\n",
    "    spheres_coords.append([x, y, z])\n",
    "\n",
    "# Plot do raio\n",
    "ray_end = ray.origin + ray.direction\n",
    "ax.plot([ray.origin[0], ray_end[0]], [ray.origin[1], ray_end[1]], [ray.origin[2], ray_end[2]], color='b')\n",
    "\n",
    "# Plot da luz\n",
    "ax.scatter(light.position[0], light.position[1], light.position[2], color=light.color / 255, s=100)\n",
    "\n",
    "# Aplicação do ray tracing na cena\n",
    "for i in range(len(objects)):\n",
    "    sphere = objects[i]\n",
    "    color = ray_tracing(ray=ray, objects=[sphere], lights=lights)\n",
    "    print(color)\n",
    "    object_color = ((sphere.material.color + color) % 255) / 255\n",
    "    print(object_color)\n",
    "    ax.plot_surface(spheres_coords[i][0], spheres_coords[i][1], spheres_coords[i][2], color=object_color, alpha=1)\n",
    "\n",
    "plt.xlabel('x-axis')\n",
    "plt.ylabel('y-axis')\n",
    "plt.title('Figure')\n",
    "\n",
    "plt.show()"
   ]
  }
 ],
 "metadata": {
  "kernelspec": {
   "display_name": "General_Work_Kernel",
   "language": "python",
   "name": "general_work_kernel"
  },
  "language_info": {
   "codemirror_mode": {
    "name": "ipython",
    "version": 3
   },
   "file_extension": ".py",
   "mimetype": "text/x-python",
   "name": "python",
   "nbconvert_exporter": "python",
   "pygments_lexer": "ipython3",
   "version": "3.11.9"
  }
 },
 "nbformat": 4,
 "nbformat_minor": 2
}
